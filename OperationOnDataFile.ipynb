{
 "cells": [
  {
   "cell_type": "code",
   "execution_count": 42,
   "metadata": {},
   "outputs": [],
   "source": [
    "import numpy as np\n",
    "my_data = np.genfromtxt('Desktop/worldunemployment.csv',delimiter=',',skip_header=1)\n"
   ]
  },
  {
   "cell_type": "code",
   "execution_count": 45,
   "metadata": {},
   "outputs": [
    {
     "data": {
      "text/plain": [
       "array([49.1 , 36.99, 28.1 , 24.5 , 29.57, 27.78, 26.7 , 30.6 , 25.75,\n",
       "       24.37, 21.9 , 20.6 , 19.88, 26.  , 18.5 , 19.22, 19.4 , 16.2 ,\n",
       "       18.5 , 17.6 , 16.5 , 17.3 , 18.1 , 17.4 , 16.55, 13.2 , 10.8 ,\n",
       "       15.5 , 15.  , 14.5 , 15.1 , 14.7 , 14.  , 13.56, 13.18, 13.49,\n",
       "       13.6 , 12.9 , 15.  , 11.9 , 11.66, 12.3 , 11.6 , 11.29, 11.19,\n",
       "       11.4 , 11.  , 11.3 , 10.2 ,  9.3 , 10.7 , 11.6 , 10.6 ,  8.9 ,\n",
       "        9.5 ,  7.3 ,  9.9 , 10.4 ,  9.34,  8.6 ,  9.3 , 10.4 ,  9.  ,\n",
       "        7.2 ,  8.8 ,  8.6 ,  8.4 ,  8.6 ,  8.1 ,  8.5 ,  8.6 ,  8.14,\n",
       "       10.1 ,  8.1 ,  7.78, 35.  ,  8.9 ,  6.96,  7.1 ,  7.18,  7.5 ,\n",
       "        6.7 ,  6.7 ,  7.  ,  7.  ,  6.76,  6.9 ,  7.1 ,  5.3 ,  6.81,\n",
       "        6.64,  7.4 ,  6.5 ,  8.1 ,  6.55,  6.8 ,  6.24,  6.4 ,  5.5 ,\n",
       "        6.3 ,  6.  ,  5.8 ,  5.9 ,  5.78,  5.8 ,  5.54,  5.8 ,  5.6 ,\n",
       "        5.3 ,  5.6 ,  5.4 ,  4.5 ,  5.18,  5.5 ,  5.  ,  5.7 ,  5.2 ,\n",
       "        4.2 ,  4.9 ,  4.9 ,  4.6 ,  4.37,  4.6 ,  4.  ,  3.7 ,  4.5 ,\n",
       "        4.2 ,  4.3 ,  4.2 ,  3.3 ,  4.02,  4.5 ,  3.5 ,  4.  ,  3.9 ,\n",
       "        3.8 ,  4.  ,  3.9 ,  3.9 ,  3.9 ,  3.5 ,  3.8 ,  3.9 ,  3.69,\n",
       "        3.51,  3.4 ,  3.4 ,  8.62,  3.3 ,  3.6 ,  3.9 ,  3.4 ,  3.4 ,\n",
       "        3.2 ,  3.08,  2.8 ,  2.59,  2.5 ,  2.5 ,  2.3 ,  2.7 ,  2.2 ,\n",
       "        3.2 ,  3.5 ,  2.2 ,  2.5 ,  1.8 ,  2.  ,  2.11,  2.02,  1.86,\n",
       "        2.4 ,  2.1 ,  2.3 ,  1.9 ,  1.64,  1.02,  1.1 ,  0.7 ,  0.5 ,\n",
       "        0.2 ,  0.1 ])"
      ]
     },
     "execution_count": 45,
     "metadata": {},
     "output_type": "execute_result"
    }
   ],
   "source": [
    "data=np.array(my_data[:,2])\n",
    "data"
   ]
  },
  {
   "cell_type": "code",
   "execution_count": 46,
   "metadata": {
    "scrolled": true
   },
   "outputs": [
    {
     "data": {
      "text/plain": [
       "8.955"
      ]
     },
     "execution_count": 46,
     "metadata": {},
     "output_type": "execute_result"
    }
   ],
   "source": [
    "data.mean()"
   ]
  },
  {
   "cell_type": "code",
   "execution_count": 49,
   "metadata": {},
   "outputs": [],
   "source": [
    "data.sort()"
   ]
  },
  {
   "cell_type": "code",
   "execution_count": 51,
   "metadata": {},
   "outputs": [
    {
     "data": {
      "text/plain": [
       "2.8"
      ]
     },
     "execution_count": 51,
     "metadata": {},
     "output_type": "execute_result"
    }
   ],
   "source": [
    "data[24]"
   ]
  },
  {
   "cell_type": "code",
   "execution_count": 52,
   "metadata": {},
   "outputs": [
    {
     "data": {
      "text/plain": [
       "6.76"
      ]
     },
     "execution_count": 52,
     "metadata": {},
     "output_type": "execute_result"
    }
   ],
   "source": [
    "data[len(data)//2]"
   ]
  },
  {
   "cell_type": "code",
   "execution_count": 93,
   "metadata": {},
   "outputs": [
    {
     "name": "stdout",
     "output_type": "stream",
     "text": [
      "-40.145\n",
      "standard deviation is  -0.2205769230769231\n"
     ]
    }
   ],
   "source": [
    "for i in range (0,len(data)):\n",
    "    deviation = data.mean() - data[i]\n",
    "    sum=0\n",
    "    sum+=deviation\n",
    "\n",
    "print(sum)\n",
    "print (\"standard deviation is \",sum/len(data))  \n",
    "    \n",
    "    \n",
    "  \n"
   ]
  },
  {
   "cell_type": "code",
   "execution_count": 76,
   "metadata": {},
   "outputs": [
    {
     "data": {
      "text/plain": [
       "array(-40.145)"
      ]
     },
     "execution_count": 76,
     "metadata": {},
     "output_type": "execute_result"
    }
   ],
   "source": [
    "deviationArray"
   ]
  },
  {
   "cell_type": "code",
   "execution_count": 127,
   "metadata": {},
   "outputs": [
    {
     "name": "stdout",
     "output_type": "stream",
     "text": [
      "45.4\n",
      "36.54\n",
      "19.5\n",
      "8.8\n",
      "29.03\n",
      "22.96\n",
      "21.5\n",
      "26.2\n",
      "21.7\n",
      "22.55\n",
      "21.6\n",
      "7.3\n",
      "19.63\n",
      "19.9\n",
      "16.68\n",
      "17.14\n",
      "10.2\n",
      "5.1\n",
      "10.8\n",
      "13.9\n",
      "6.3\n",
      "16.8\n",
      "8.3\n",
      "16.8\n",
      "4.41\n",
      "1\n",
      "5.6\n",
      "12.4\n",
      "2.3\n",
      "13.5\n",
      "14.8\n",
      "11.8\n",
      "10.3\n",
      "3.66\n",
      "12.86\n",
      "7.2\n",
      "12.1\n",
      "6.2\n",
      "10.7\n",
      "9.5\n",
      "9.85\n",
      "9.8\n",
      "10.2\n",
      "8.1\n",
      "9.98\n",
      "7.6\n",
      "5.8\n",
      "8.1\n",
      "7.8\n",
      "8.3\n",
      "10.3\n",
      "6.9\n",
      "7.3\n",
      "6.6\n",
      "7.3\n",
      "2.8\n",
      "6.3\n",
      "9.6\n",
      "8.99\n",
      "0.7\n",
      "8.9\n",
      "9.2\n",
      "7.2\n",
      "5.9\n",
      "6.7\n",
      "3\n",
      "7.3\n",
      "6.3\n",
      "5.3\n",
      "5.4\n",
      "2.7\n",
      "3.3\n",
      "8\n",
      "3.7\n",
      "7.75\n",
      "7.7\n",
      "5.5\n",
      "1.3\n",
      "5.5\n",
      "7.03\n",
      "6.3\n",
      "2.7\n",
      "5.1\n",
      "5.88\n",
      "6.8\n",
      "6.21\n",
      "6.66\n",
      "0.8\n",
      "0.5\n",
      "6.78\n",
      "6.36\n",
      "3\n",
      "6.1\n",
      "5.6\n",
      "6.41\n",
      "1.3\n",
      "4.6\n",
      "4.68\n",
      "4.2\n",
      "0.3\n",
      "6\n",
      "4.35\n",
      "3.1\n",
      "5.57\n",
      "2.9\n",
      "3.6\n",
      "4.54\n",
      "1.4\n",
      "4.7\n",
      "4\n",
      "5.4\n",
      "3.1\n",
      "4.17\n",
      "2\n",
      "4.5\n",
      "5.1\n",
      "3.9\n",
      "2.6\n",
      "4.9\n",
      "4.7\n",
      "4.4\n",
      "2.9\n",
      "3.4\n",
      "3.7\n",
      "3.7\n",
      "3.3\n",
      "2.2\n",
      "4.2\n",
      "3.4\n",
      "2.9\n",
      "4\n",
      "1\n",
      "3.1\n",
      "2.4\n",
      "3.6\n",
      "2.9\n",
      "3.6\n",
      "3.6\n",
      "3.89\n",
      "2.5\n",
      "2.08\n",
      "3.7\n",
      "2.3\n",
      "1.04\n",
      "3.41\n",
      "3.2\n",
      "0.4\n",
      "3.4\n",
      "2.7\n",
      "1.6\n",
      "0.8\n",
      "2.22\n",
      "1.9\n",
      "0.09\n",
      "0.9\n",
      "1\n",
      "1.47\n",
      "2.4\n",
      "1.15\n",
      "2.2\n",
      "1.5\n",
      "1.2\n",
      "2.3\n",
      "0.1\n",
      "2\n",
      "1\n",
      "1.3\n",
      "0.94\n",
      "0.5\n",
      "1.63\n",
      "1.66\n",
      "1.6\n",
      "1.4\n",
      "1.9\n",
      "1.7\n",
      "1.15\n",
      "0.69\n",
      "0.39\n",
      "0.6\n",
      "0.5\n",
      "0.1\n",
      "0.1\n",
      "['0', '.', '1']\n"
     ]
    }
   ],
   "source": [
    "import csv\n",
    "with open ('Desktop/worldunemployment.csv','r') as f:\n",
    "    datalist=list(csv.reader(f,delimiter=','))\n",
    "\n",
    "for i in range (1,len(datalist)):\n",
    "    print((datalist[i][4]))\n",
    "    \n",
    "    \n",
    "    "
   ]
  },
  {
   "cell_type": "code",
   "execution_count": null,
   "metadata": {},
   "outputs": [],
   "source": []
  },
  {
   "cell_type": "code",
   "execution_count": null,
   "metadata": {},
   "outputs": [],
   "source": []
  }
 ],
 "metadata": {
  "kernelspec": {
   "display_name": "Python 3",
   "language": "python",
   "name": "python3"
  },
  "language_info": {
   "codemirror_mode": {
    "name": "ipython",
    "version": 3
   },
   "file_extension": ".py",
   "mimetype": "text/x-python",
   "name": "python",
   "nbconvert_exporter": "python",
   "pygments_lexer": "ipython3",
   "version": "3.6.5"
  }
 },
 "nbformat": 4,
 "nbformat_minor": 2
}
